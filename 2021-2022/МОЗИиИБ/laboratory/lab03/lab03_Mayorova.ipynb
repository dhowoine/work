{
 "cells": [
  {
   "cell_type": "markdown",
   "metadata": {},
   "source": [
    "##### Шифрование гаммированием конечной гаммой"
   ]
  },
  {
   "cell_type": "code",
   "execution_count": 6,
   "metadata": {},
   "outputs": [],
   "source": [
    "import numpy as np"
   ]
  },
  {
   "cell_type": "code",
   "execution_count": 7,
   "metadata": {},
   "outputs": [],
   "source": [
    "# C - открытый текст\n",
    "# g - гамма\n",
    "\n",
    "def gamm(C, g):\n",
    "    C = C.replace(' ', '')\n",
    "    for i in range(int(np.floor(len(C)/len(g) - 1))):\n",
    "        g += ''.join(g)\n",
    "    \n",
    "    g += ''.join(g[:len(C)%len(g)])\n",
    "    \n",
    "    if ord('a') <= ord(C[0]) <= ord('z'):\n",
    "        n = 26\n",
    "        s = ord('a')\n",
    "        \n",
    "    if ord('а') <= ord(C[0]) <= ord('я'):\n",
    "        n = 33\n",
    "        s = ord('а')\n",
    "        \n",
    "    cypher = ''\n",
    "    \n",
    "    for i in range(len(C)):\n",
    "        c = (ord(C[i]) + ord(g[i]) - 2*s) % n + 1\n",
    "        cypher += ''.join(chr(c + s))\n",
    "        \n",
    "    return cypher"
   ]
  },
  {
   "cell_type": "code",
   "execution_count": 8,
   "metadata": {},
   "outputs": [
    {
     "data": {
      "text/plain": [
       "'усхчбл'"
      ]
     },
     "execution_count": 8,
     "metadata": {},
     "output_type": "execute_result"
    }
   ],
   "source": [
    "gamm('приказ', 'гамма')"
   ]
  },
  {
   "cell_type": "code",
   "execution_count": 9,
   "metadata": {},
   "outputs": [
    {
     "data": {
      "text/plain": [
       "'vsqrs'"
      ]
     },
     "execution_count": 9,
     "metadata": {},
     "output_type": "execute_result"
    }
   ],
   "source": [
    "gamm('order', 'gamma')"
   ]
  }
 ],
 "metadata": {
  "kernelspec": {
   "display_name": "Python 3",
   "language": "python",
   "name": "python3"
  },
  "language_info": {
   "codemirror_mode": {
    "name": "ipython",
    "version": 3
   },
   "file_extension": ".py",
   "mimetype": "text/x-python",
   "name": "python",
   "nbconvert_exporter": "python",
   "pygments_lexer": "ipython3",
   "version": "3.7.6"
  }
 },
 "nbformat": 4,
 "nbformat_minor": 4
}
