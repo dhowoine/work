{
 "cells": [
  {
   "cell_type": "markdown",
   "metadata": {},
   "source": [
    "##### Алгоритм 1 (сложение неотрицательных целых чисел)"
   ]
  },
  {
   "cell_type": "code",
   "execution_count": 6,
   "metadata": {},
   "outputs": [],
   "source": [
    "def alg1(u, v, n, b):\n",
    "    u = [int(x) for x in str(u)]\n",
    "    v = [int(x) for x in str(v)]\n",
    "    w = []\n",
    "    j = n\n",
    "    k = 0\n",
    "    \n",
    "    while j > 0:\n",
    "        w.append((u[j-1] + v[j-1] + k) % b)\n",
    "        k = (u[j-1] + v[j-1] + k) // b\n",
    "        j -= 1\n",
    "        \n",
    "    w.append(k)\n",
    "    w.reverse()\n",
    "    \n",
    "    return int(''.join(str(x) for x in w))"
   ]
  },
  {
   "cell_type": "code",
   "execution_count": 7,
   "metadata": {},
   "outputs": [
    {
     "data": {
      "text/plain": [
       "(9010, 9010)"
      ]
     },
     "execution_count": 7,
     "metadata": {},
     "output_type": "execute_result"
    }
   ],
   "source": [
    "alg1(4773, 4237, 4, 10), 4773+4237"
   ]
  },
  {
   "cell_type": "code",
   "execution_count": 8,
   "metadata": {},
   "outputs": [
    {
     "data": {
      "text/plain": [
       "(5555, 5555)"
      ]
     },
     "execution_count": 8,
     "metadata": {},
     "output_type": "execute_result"
    }
   ],
   "source": [
    "alg1(4321, 1234, 4, 10), 4321+1234"
   ]
  },
  {
   "cell_type": "markdown",
   "metadata": {},
   "source": [
    "##### Алгоритм 2 (вычитание неотрицательных целых чисел)"
   ]
  },
  {
   "cell_type": "code",
   "execution_count": 9,
   "metadata": {},
   "outputs": [],
   "source": [
    "def alg2(u, v, n, b):\n",
    "    u = [int(x) for x in str(u)]\n",
    "    v = [int(x) for x in str(v)]\n",
    "    w = []\n",
    "    j = n\n",
    "    k = 0\n",
    "    \n",
    "    while j > 0:\n",
    "        w.append((u[j-1] - v[j-1] + k) % b)\n",
    "        k = (u[j-1] - v[j-1] + k) // b\n",
    "        j -= 1\n",
    "        \n",
    "    w.reverse()\n",
    "    \n",
    "    return int(''.join(str(x) for x in w))"
   ]
  },
  {
   "cell_type": "code",
   "execution_count": 11,
   "metadata": {},
   "outputs": [
    {
     "data": {
      "text/plain": [
       "(536, 536)"
      ]
     },
     "execution_count": 11,
     "metadata": {},
     "output_type": "execute_result"
    }
   ],
   "source": [
    "alg2(4773, 4237, 4, 10), 4773-4237"
   ]
  },
  {
   "cell_type": "code",
   "execution_count": 12,
   "metadata": {},
   "outputs": [
    {
     "data": {
      "text/plain": [
       "(3087, 3087)"
      ]
     },
     "execution_count": 12,
     "metadata": {},
     "output_type": "execute_result"
    }
   ],
   "source": [
    "alg2(4321, 1234, 4, 10), 4321-1234"
   ]
  },
  {
   "cell_type": "markdown",
   "metadata": {},
   "source": [
    "##### Алгоритм 3 (умножение неотрицательных целых чисел)"
   ]
  },
  {
   "cell_type": "code",
   "execution_count": 13,
   "metadata": {},
   "outputs": [],
   "source": [
    "def alg3(u, v, n, b):\n",
    "    u = [int(x) for x in str(u)]\n",
    "    v = [int(x) for x in str(v)]\n",
    "    w = [0] * (len(u + v))\n",
    "    j = len(v)\n",
    "    \n",
    "    while j > 0:\n",
    "        if v[j-1] == 0:\n",
    "            w[j-1] = 0\n",
    "        else:\n",
    "            i = len(u)\n",
    "            k = 0\n",
    "            while i > 0:\n",
    "                t = u[i-1]*v[j-1] + w[i+j-1] + k\n",
    "                w[i+j-1] = t % b\n",
    "                k = t // b\n",
    "                i -= 1\n",
    "            w[j-1] = k\n",
    "        j -= 1\n",
    "    \n",
    "    return int(''.join(str(x) for x in w))"
   ]
  },
  {
   "cell_type": "code",
   "execution_count": 14,
   "metadata": {},
   "outputs": [
    {
     "data": {
      "text/plain": [
       "(20223201, 20223201)"
      ]
     },
     "execution_count": 14,
     "metadata": {},
     "output_type": "execute_result"
    }
   ],
   "source": [
    "alg3(4773, 4237, 4, 10), 4773*4237"
   ]
  },
  {
   "cell_type": "code",
   "execution_count": 15,
   "metadata": {},
   "outputs": [
    {
     "data": {
      "text/plain": [
       "(5332114, 5332114)"
      ]
     },
     "execution_count": 15,
     "metadata": {},
     "output_type": "execute_result"
    }
   ],
   "source": [
    "alg3(4321, 1234, 4, 10), 4321*1234"
   ]
  },
  {
   "cell_type": "markdown",
   "metadata": {},
   "source": [
    "##### Алгоритм 4 (быстрый столбик)"
   ]
  },
  {
   "cell_type": "code",
   "execution_count": 16,
   "metadata": {},
   "outputs": [],
   "source": [
    "def alg4(u, v, b):\n",
    "    u = [int(x) for x in str(u)]\n",
    "    v = [int(x) for x in str(v)]\n",
    "    w = [0] * (len(u + v))\n",
    "    t = 0\n",
    "    n = len(u)\n",
    "    m = len(v)\n",
    "    \n",
    "    j = -n + 1\n",
    "    for s in range(m + n):\n",
    "        if s >= (m + n) // 2:\n",
    "            r1 = j\n",
    "            r2 = s+1-j\n",
    "        else:\n",
    "            r1 = 0\n",
    "            r2 = s+1\n",
    "    \n",
    "        for i in range(r1, r2):\n",
    "            t += u[n-i-1] * v[m-s+i-1]\n",
    "\n",
    "        j += 1\n",
    "        w[m+n-s-1] = t % b\n",
    "        t = t // b\n",
    "    \n",
    "    return int(''.join(str(x) for x in w))"
   ]
  },
  {
   "cell_type": "code",
   "execution_count": 18,
   "metadata": {},
   "outputs": [
    {
     "data": {
      "text/plain": [
       "(20223201, 20223201)"
      ]
     },
     "execution_count": 18,
     "metadata": {},
     "output_type": "execute_result"
    }
   ],
   "source": [
    "alg4(4773, 4237, 10), 4773*4237"
   ]
  },
  {
   "cell_type": "code",
   "execution_count": 19,
   "metadata": {},
   "outputs": [
    {
     "data": {
      "text/plain": [
       "(5332114, 5332114)"
      ]
     },
     "execution_count": 19,
     "metadata": {},
     "output_type": "execute_result"
    }
   ],
   "source": [
    "alg4(4321, 1234, 10), 4321*1234"
   ]
  },
  {
   "cell_type": "markdown",
   "metadata": {},
   "source": [
    "##### Алгоритм 5 (деление многоразрядных целых чисел)"
   ]
  },
  {
   "cell_type": "code",
   "execution_count": 20,
   "metadata": {},
   "outputs": [],
   "source": [
    "def alg5(u, v, b):\n",
    "    n = len(str(u))\n",
    "    t = len(str(v))\n",
    "    q = [0] * (n - t + 1)\n",
    "    \n",
    "    while u >= v*b**(n-t):\n",
    "        q[n-t] += 1\n",
    "        u -= v*b**(n-t)\n",
    "        \n",
    "    ul = [int(x) for x in str(u)]\n",
    "    vl = [int(x) for x in str(v)]\n",
    "\n",
    "    i = n\n",
    "    while i > t:\n",
    "        if ul[i] >= vl[i]:\n",
    "            q[i-t-1] = b-1\n",
    "        else:\n",
    "            q[i-t-1] = (ul[i]*b + ul[i-1])/vl[t]\n",
    "            \n",
    "        while q[i-t-1]*(vl[t]*b + vl[t-1]) > ul[i] * b**2 + ul[i-1] * b + ul[i-2]:\n",
    "            q[i-t-1] -= 1\n",
    "            \n",
    "        u = u - q[i-t-1] * b**(i-t-1) * v\n",
    "        ul = [int(x) for x in str(u)]\n",
    "        \n",
    "        if u < 0:\n",
    "            u = u + v * b**(i-t-1)\n",
    "            ul = [int(x) for x in str(u)]\n",
    "            \n",
    "            q[i-t-1] -= 1\n",
    "            \n",
    "        i -= 1\n",
    "        \n",
    "    return int(''.join(str(x) for x in q)), u"
   ]
  },
  {
   "cell_type": "code",
   "execution_count": 21,
   "metadata": {},
   "outputs": [
    {
     "data": {
      "text/plain": [
       "((1, 536), 1, 536)"
      ]
     },
     "execution_count": 21,
     "metadata": {},
     "output_type": "execute_result"
    }
   ],
   "source": [
    "alg5(4773, 4237, 10), 4773//4237, 4773%4237"
   ]
  },
  {
   "cell_type": "code",
   "execution_count": 22,
   "metadata": {},
   "outputs": [
    {
     "data": {
      "text/plain": [
       "((3, 619), 3, 619)"
      ]
     },
     "execution_count": 22,
     "metadata": {},
     "output_type": "execute_result"
    }
   ],
   "source": [
    "alg5(4321, 1234, 10), 4321//1234, 4321%1234"
   ]
  }
 ],
 "metadata": {
  "kernelspec": {
   "display_name": "Python 3",
   "language": "python",
   "name": "python3"
  },
  "language_info": {
   "codemirror_mode": {
    "name": "ipython",
    "version": 3
   },
   "file_extension": ".py",
   "mimetype": "text/x-python",
   "name": "python",
   "nbconvert_exporter": "python",
   "pygments_lexer": "ipython3",
   "version": "3.7.6"
  }
 },
 "nbformat": 4,
 "nbformat_minor": 4
}
