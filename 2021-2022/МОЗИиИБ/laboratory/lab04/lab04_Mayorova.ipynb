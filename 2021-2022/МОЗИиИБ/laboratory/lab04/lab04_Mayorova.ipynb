{
 "cells": [
  {
   "cell_type": "markdown",
   "metadata": {},
   "source": [
    "##### Алгоритм Евклида"
   ]
  },
  {
   "cell_type": "code",
   "execution_count": 1,
   "metadata": {},
   "outputs": [],
   "source": [
    "def Euclid(a, b):\n",
    "    rp = a\n",
    "    rc = b\n",
    "    rn = rp % rc\n",
    "    d = rc\n",
    "    while rn != 0:\n",
    "        rn = rp % rc\n",
    "        d = rc\n",
    "        rp = rc\n",
    "        rc = rn\n",
    "    \n",
    "    return d"
   ]
  },
  {
   "cell_type": "code",
   "execution_count": 2,
   "metadata": {},
   "outputs": [
    {
     "data": {
      "text/plain": [
       "3"
      ]
     },
     "execution_count": 2,
     "metadata": {},
     "output_type": "execute_result"
    }
   ],
   "source": [
    "Euclid(4269, 228)"
   ]
  },
  {
   "cell_type": "code",
   "execution_count": 3,
   "metadata": {},
   "outputs": [
    {
     "data": {
      "text/plain": [
       "222"
      ]
     },
     "execution_count": 3,
     "metadata": {},
     "output_type": "execute_result"
    }
   ],
   "source": [
    "Euclid(888888, 666)"
   ]
  },
  {
   "cell_type": "markdown",
   "metadata": {},
   "source": [
    "##### Бинарный алгоритм Евклида"
   ]
  },
  {
   "cell_type": "code",
   "execution_count": 4,
   "metadata": {},
   "outputs": [],
   "source": [
    "def BiEuclid(a, b):\n",
    "    g = 1\n",
    "    while a % 2 == 0 and b % 2 == 0:\n",
    "        a /= 2\n",
    "        b /= 2\n",
    "        g *= 2\n",
    "        \n",
    "    u = a\n",
    "    v = b\n",
    "    while u != 0:\n",
    "        while u % 2 == 0:\n",
    "            u /= 2\n",
    "            \n",
    "        while v % 2 == 0:\n",
    "            v /= 2\n",
    "        \n",
    "        if u >= v:\n",
    "            u = u - v\n",
    "        else:\n",
    "            v = v - u\n",
    "            \n",
    "    d = g*v\n",
    "    \n",
    "    return d"
   ]
  },
  {
   "cell_type": "code",
   "execution_count": 5,
   "metadata": {},
   "outputs": [
    {
     "data": {
      "text/plain": [
       "3.0"
      ]
     },
     "execution_count": 5,
     "metadata": {},
     "output_type": "execute_result"
    }
   ],
   "source": [
    "BiEuclid(4269, 228)"
   ]
  },
  {
   "cell_type": "code",
   "execution_count": 6,
   "metadata": {},
   "outputs": [
    {
     "data": {
      "text/plain": [
       "222.0"
      ]
     },
     "execution_count": 6,
     "metadata": {},
     "output_type": "execute_result"
    }
   ],
   "source": [
    "BiEuclid(888888, 666)"
   ]
  },
  {
   "cell_type": "markdown",
   "metadata": {},
   "source": [
    "###### Расширенный алгоритм Евклида"
   ]
  },
  {
   "cell_type": "code",
   "execution_count": 7,
   "metadata": {},
   "outputs": [],
   "source": [
    "def ExtEuclid(a, b):\n",
    "    rp = a\n",
    "    rc = b\n",
    "    xp, xc = 1, 0\n",
    "    yp, yc = 0, 1\n",
    "    rn = rp % rc\n",
    "    d = rc\n",
    "    while rn != 0:\n",
    "        rn = rp % rc\n",
    "        q = (rp - rn)/rc\n",
    "        d, x, y = rc, xc, yc\n",
    "        \n",
    "        rp = rc\n",
    "        rc = rn\n",
    "        \n",
    "        xc = xp - q*xc\n",
    "        xp = x\n",
    "        \n",
    "        yc = yp - q*yc\n",
    "        yp = y\n",
    "    \n",
    "    return d, x, y"
   ]
  },
  {
   "cell_type": "code",
   "execution_count": 8,
   "metadata": {},
   "outputs": [
    {
     "data": {
      "text/plain": [
       "(3, -29.0, 543.0)"
      ]
     },
     "execution_count": 8,
     "metadata": {},
     "output_type": "execute_result"
    }
   ],
   "source": [
    "ExtEuclid(4269, 228)"
   ]
  },
  {
   "cell_type": "code",
   "execution_count": 9,
   "metadata": {},
   "outputs": [
    {
     "data": {
      "text/plain": [
       "(222, -1.0, 1335.0)"
      ]
     },
     "execution_count": 9,
     "metadata": {},
     "output_type": "execute_result"
    }
   ],
   "source": [
    "ExtEuclid(888888, 666)"
   ]
  },
  {
   "cell_type": "markdown",
   "metadata": {},
   "source": [
    "###### Расширенный бинарный алгоритм Евклида"
   ]
  },
  {
   "cell_type": "code",
   "execution_count": 10,
   "metadata": {},
   "outputs": [],
   "source": [
    "def ExtBiEuclid(a, b):\n",
    "    g = 1\n",
    "    while a % 2 == 0 and b % 2 == 0:\n",
    "        a /= 2\n",
    "        b /= 2\n",
    "        g *= 2\n",
    "        \n",
    "    u, v = a, b\n",
    "    A, B, C, D = 1, 0, 0, 1\n",
    "    \n",
    "    while u != 0:\n",
    "        while u % 2 == 0:\n",
    "            u /= 2\n",
    "            if A % 2 == 0 and B % 2 == 0:\n",
    "                A /= 2\n",
    "                B /= 2\n",
    "            else:\n",
    "                A = (A + b)/2\n",
    "                B = (B - a)/2\n",
    "            \n",
    "        while v % 2 == 0:\n",
    "            v /= 2\n",
    "            if C % 2 == 0 and D % 2 == 0:\n",
    "                C /= 2\n",
    "                D /= 2\n",
    "            else:\n",
    "                C = (C + b)/2\n",
    "                D = (D - a)/2\n",
    "        \n",
    "        if u >= v:\n",
    "            u = u - v\n",
    "            A = A - C\n",
    "            B = B - D\n",
    "        else:\n",
    "            v = v - u\n",
    "            C = C - A\n",
    "            D = D - B\n",
    "            \n",
    "    d, x, y = g*v, C, D\n",
    "    \n",
    "    return d, x, y"
   ]
  },
  {
   "cell_type": "code",
   "execution_count": 11,
   "metadata": {},
   "outputs": [
    {
     "data": {
      "text/plain": [
       "(3.0, 123.0, -2303.0)"
      ]
     },
     "execution_count": 11,
     "metadata": {},
     "output_type": "execute_result"
    }
   ],
   "source": [
    "ExtBiEuclid(4269, 228)"
   ]
  },
  {
   "cell_type": "code",
   "execution_count": 12,
   "metadata": {},
   "outputs": [
    {
     "data": {
      "text/plain": [
       "(222.0, -10.0, 13347.0)"
      ]
     },
     "execution_count": 12,
     "metadata": {},
     "output_type": "execute_result"
    }
   ],
   "source": [
    "ExtBiEuclid(888888, 666)"
   ]
  }
 ],
 "metadata": {
  "kernelspec": {
   "display_name": "Python 3",
   "language": "python",
   "name": "python3"
  },
  "language_info": {
   "codemirror_mode": {
    "name": "ipython",
    "version": 3
   },
   "file_extension": ".py",
   "mimetype": "text/x-python",
   "name": "python",
   "nbconvert_exporter": "python",
   "pygments_lexer": "ipython3",
   "version": "3.7.6"
  }
 },
 "nbformat": 4,
 "nbformat_minor": 4
}
