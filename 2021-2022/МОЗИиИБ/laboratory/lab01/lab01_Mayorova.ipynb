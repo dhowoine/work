{
 "cells": [
  {
   "cell_type": "markdown",
   "metadata": {},
   "source": [
    "##### шифр Цезаря"
   ]
  },
  {
   "cell_type": "code",
   "execution_count": 18,
   "metadata": {},
   "outputs": [],
   "source": [
    "# c - буква для шифрования\n",
    "# k - ключ\n",
    "\n",
    "def Caesar(c, k):\n",
    "    n = [(i + k) % 26 for i in range(26)][ord(c) - ord('a')]\n",
    "    return chr(ord('a') + n)"
   ]
  },
  {
   "cell_type": "code",
   "execution_count": 21,
   "metadata": {},
   "outputs": [
    {
     "name": "stdout",
     "output_type": "stream",
     "text": [
      "yhql ylgl ylfl"
     ]
    }
   ],
   "source": [
    "for c in 'veni vidi vici':\n",
    "    if c == ' ':\n",
    "        print(' ', end='')\n",
    "    else:\n",
    "        print(Caesar(c, 3), end='')"
   ]
  },
  {
   "cell_type": "code",
   "execution_count": 22,
   "metadata": {},
   "outputs": [
    {
     "name": "stdout",
     "output_type": "stream",
     "text": [
      "gftujob mfouf"
     ]
    }
   ],
   "source": [
    "for c in 'festina lente':\n",
    "    if c == ' ':\n",
    "        print(' ', end='')\n",
    "    else:\n",
    "        print(Caesar(c, 1), end='')"
   ]
  },
  {
   "cell_type": "markdown",
   "metadata": {},
   "source": [
    "##### шифр Атбаш"
   ]
  },
  {
   "cell_type": "code",
   "execution_count": 23,
   "metadata": {},
   "outputs": [],
   "source": [
    "# c - буква для шифрования\n",
    "\n",
    "def Atbash(c):\n",
    "    return chr(ord('а') + (ord('я') - ord(c)))"
   ]
  },
  {
   "cell_type": "code",
   "execution_count": 24,
   "metadata": {},
   "outputs": [
    {
     "data": {
      "text/plain": [
       "'я'"
      ]
     },
     "execution_count": 24,
     "metadata": {},
     "output_type": "execute_result"
    }
   ],
   "source": [
    "Atbash('а')"
   ]
  },
  {
   "cell_type": "code",
   "execution_count": 25,
   "metadata": {},
   "outputs": [
    {
     "data": {
      "text/plain": [
       "'а'"
      ]
     },
     "execution_count": 25,
     "metadata": {},
     "output_type": "execute_result"
    }
   ],
   "source": [
    "Atbash('я')"
   ]
  },
  {
   "cell_type": "code",
   "execution_count": 26,
   "metadata": {},
   "outputs": [
    {
     "name": "stdout",
     "output_type": "stream",
     "text": [
      "усшчччю"
     ]
    }
   ],
   "source": [
    "for c in 'мозиииб':\n",
    "    print(Atbash(c), end='')"
   ]
  }
 ],
 "metadata": {
  "kernelspec": {
   "display_name": "Python 3",
   "language": "python",
   "name": "python3"
  },
  "language_info": {
   "codemirror_mode": {
    "name": "ipython",
    "version": 3
   },
   "file_extension": ".py",
   "mimetype": "text/x-python",
   "name": "python",
   "nbconvert_exporter": "python",
   "pygments_lexer": "ipython3",
   "version": "3.7.6"
  }
 },
 "nbformat": 4,
 "nbformat_minor": 4
}
