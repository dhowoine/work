{
 "cells": [
  {
   "cell_type": "code",
   "execution_count": 2,
   "metadata": {},
   "outputs": [],
   "source": [
    "import numpy as np"
   ]
  },
  {
   "cell_type": "markdown",
   "metadata": {},
   "source": [
    "##### тест Ферма"
   ]
  },
  {
   "cell_type": "code",
   "execution_count": 3,
   "metadata": {},
   "outputs": [],
   "source": [
    "# n - нечётное целое число >= 5\n",
    "\n",
    "def Fermat(n):\n",
    "    a = np.random.randint(2, n-1)\n",
    "    r = a**(n-1) % n\n",
    "    if r == 1:\n",
    "        return 'Число n, вероятно, простое'\n",
    "    else:\n",
    "        return 'Число n составное'"
   ]
  },
  {
   "cell_type": "code",
   "execution_count": 4,
   "metadata": {},
   "outputs": [
    {
     "data": {
      "text/plain": [
       "'Число n, вероятно, простое'"
      ]
     },
     "execution_count": 4,
     "metadata": {},
     "output_type": "execute_result"
    }
   ],
   "source": [
    "Fermat(47)"
   ]
  },
  {
   "cell_type": "code",
   "execution_count": 5,
   "metadata": {},
   "outputs": [
    {
     "data": {
      "text/plain": [
       "'Число n составное'"
      ]
     },
     "execution_count": 5,
     "metadata": {},
     "output_type": "execute_result"
    }
   ],
   "source": [
    "Fermat(69)"
   ]
  },
  {
   "cell_type": "markdown",
   "metadata": {},
   "source": [
    "##### символ Якоби"
   ]
  },
  {
   "cell_type": "code",
   "execution_count": 6,
   "metadata": {},
   "outputs": [],
   "source": [
    "# n - нечётное целое число >= 3\n",
    "# a - целое число 0<=a<n\n",
    "\n",
    "def Jacobi(a, n):\n",
    "    g = 1\n",
    "    while True:\n",
    "        if a == 0:\n",
    "            return 0\n",
    "        if a == 1:\n",
    "            return g\n",
    "\n",
    "\n",
    "        k = 0\n",
    "        a1 = a\n",
    "        while a1 % 2 == 0:\n",
    "            a1 = int(a1 / 2)\n",
    "            k += 1\n",
    "\n",
    "        if k % 2 == 0:\n",
    "            s = 1\n",
    "        else:\n",
    "            if (n-1) % 8 == 0 or (n+1) % 8 == 0:\n",
    "                s = 1\n",
    "            if (n-3) % 8 == 0 or (n+3) % 8 == 0:\n",
    "                s = -1\n",
    "\n",
    "        if a1 == 1:\n",
    "            return g*s\n",
    "\n",
    "        if (n-3) % 4 == 0 or (a1-3) % 4 == 0:\n",
    "            s = -s\n",
    "\n",
    "        a = n % a1\n",
    "        n = a1\n",
    "        g = g*s"
   ]
  },
  {
   "cell_type": "code",
   "execution_count": 7,
   "metadata": {},
   "outputs": [
    {
     "data": {
      "text/plain": [
       "1"
      ]
     },
     "execution_count": 7,
     "metadata": {},
     "output_type": "execute_result"
    }
   ],
   "source": [
    "Jacobi(1, 3)"
   ]
  },
  {
   "cell_type": "code",
   "execution_count": 8,
   "metadata": {},
   "outputs": [
    {
     "data": {
      "text/plain": [
       "-1"
      ]
     },
     "execution_count": 8,
     "metadata": {},
     "output_type": "execute_result"
    }
   ],
   "source": [
    "Jacobi(2, 3)"
   ]
  },
  {
   "cell_type": "code",
   "execution_count": 9,
   "metadata": {},
   "outputs": [
    {
     "data": {
      "text/plain": [
       "0"
      ]
     },
     "execution_count": 9,
     "metadata": {},
     "output_type": "execute_result"
    }
   ],
   "source": [
    "Jacobi(3, 3)"
   ]
  },
  {
   "cell_type": "markdown",
   "metadata": {},
   "source": [
    "##### тест Соловэя-Штрассена"
   ]
  },
  {
   "cell_type": "code",
   "execution_count": 10,
   "metadata": {},
   "outputs": [],
   "source": [
    "# n - нечётное целое число >= 5\n",
    "\n",
    "def SolStr(n):\n",
    "    a = np.random.randint(2, n-2)\n",
    "    r = a**int((n-1)/2) % n\n",
    "    \n",
    "    if r != 1 and r != n-1:\n",
    "        return 'Число n составное'\n",
    "    \n",
    "    s = Jacobi(a, n)\n",
    "    \n",
    "    if r != s % n:\n",
    "        return 'Число n составное'\n",
    "    else:\n",
    "        return 'Число n, вероятно, простое'"
   ]
  },
  {
   "cell_type": "code",
   "execution_count": 11,
   "metadata": {},
   "outputs": [
    {
     "data": {
      "text/plain": [
       "'Число n, вероятно, простое'"
      ]
     },
     "execution_count": 11,
     "metadata": {},
     "output_type": "execute_result"
    }
   ],
   "source": [
    "SolStr(47)"
   ]
  },
  {
   "cell_type": "code",
   "execution_count": 12,
   "metadata": {},
   "outputs": [
    {
     "data": {
      "text/plain": [
       "'Число n составное'"
      ]
     },
     "execution_count": 12,
     "metadata": {},
     "output_type": "execute_result"
    }
   ],
   "source": [
    "SolStr(69)"
   ]
  },
  {
   "cell_type": "markdown",
   "metadata": {},
   "source": [
    "##### тест Миллера-Рабина"
   ]
  },
  {
   "cell_type": "code",
   "execution_count": 13,
   "metadata": {},
   "outputs": [],
   "source": [
    "# n - нечётное целое число >= 5\n",
    "\n",
    "def MillRab(n):\n",
    "    s = 0\n",
    "    r = n - 1\n",
    "    while r % 2 == 0:\n",
    "        r = int(r / 2)\n",
    "        s += 1\n",
    "        \n",
    "    a = np.random.randint(2, n-2)\n",
    "    \n",
    "    y = a**r % n\n",
    "    \n",
    "    if y != 1 and y != n-1:\n",
    "        j = 1\n",
    "        while j <= s-1 and y != n-1:\n",
    "            y = y**2 % n\n",
    "            if y == 1:\n",
    "                return 'Число n составное'\n",
    "            j += 1\n",
    "        if y != n-1:\n",
    "            return 'Число n составное'\n",
    "        \n",
    "    return 'Число n, вероятно, простое'"
   ]
  },
  {
   "cell_type": "code",
   "execution_count": 14,
   "metadata": {},
   "outputs": [
    {
     "data": {
      "text/plain": [
       "'Число n, вероятно, простое'"
      ]
     },
     "execution_count": 14,
     "metadata": {},
     "output_type": "execute_result"
    }
   ],
   "source": [
    "MillRab(47)"
   ]
  },
  {
   "cell_type": "code",
   "execution_count": 15,
   "metadata": {},
   "outputs": [
    {
     "data": {
      "text/plain": [
       "'Число n составное'"
      ]
     },
     "execution_count": 15,
     "metadata": {},
     "output_type": "execute_result"
    }
   ],
   "source": [
    "MillRab(69)"
   ]
  }
 ],
 "metadata": {
  "kernelspec": {
   "display_name": "Python 3",
   "language": "python",
   "name": "python3"
  },
  "language_info": {
   "codemirror_mode": {
    "name": "ipython",
    "version": 3
   },
   "file_extension": ".py",
   "mimetype": "text/x-python",
   "name": "python",
   "nbconvert_exporter": "python",
   "pygments_lexer": "ipython3",
   "version": "3.7.6"
  }
 },
 "nbformat": 4,
 "nbformat_minor": 4
}
