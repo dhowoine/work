{
 "cells": [
  {
   "cell_type": "code",
   "execution_count": 1,
   "metadata": {},
   "outputs": [],
   "source": [
    "def f(c, u, v):\n",
    "    if c < 53:\n",
    "        return 10*c % 107, u+1, v\n",
    "    else:\n",
    "        return 64*c % 107, u, v+1"
   ]
  },
  {
   "cell_type": "code",
   "execution_count": 4,
   "metadata": {},
   "outputs": [],
   "source": [
    "def ExtEuclid(a, b):\n",
    "    rp = a\n",
    "    rc = b\n",
    "    xp, xc = 1, 0\n",
    "    yp, yc = 0, 1\n",
    "    rn = rp % rc\n",
    "    d = rc\n",
    "    while rn != 0:\n",
    "        rn = rp % rc\n",
    "        q = (rp - rn)/rc\n",
    "        d, x, y = rc, xc, yc\n",
    "        \n",
    "        rp = rc\n",
    "        rc = rn\n",
    "        \n",
    "        xc = xp - q*xc\n",
    "        xp = x\n",
    "        \n",
    "        yc = yp - q*yc\n",
    "        yp = y\n",
    "    \n",
    "    return d, x, y"
   ]
  },
  {
   "cell_type": "code",
   "execution_count": 5,
   "metadata": {},
   "outputs": [],
   "source": [
    "def PollardLog(p, a, r, b, u, v):\n",
    "    c = a**u * b**v % p\n",
    "    d = c\n",
    "    uc, vc = u, v\n",
    "    ud, vd = u, v\n",
    "    \n",
    "    c, uc, vc = f(c, uc, vc)\n",
    "    c %= p\n",
    "    d, ud, vd = f(*f(d, ud, vd))\n",
    "    d %= p\n",
    "    \n",
    "    while c%p != d%p:\n",
    "        c, uc, vc = f(c, uc, vc)\n",
    "        c %= p\n",
    "        d, ud, vd = f(*f(d, ud, vd))\n",
    "        d %= p\n",
    "        \n",
    "    v = vc - vd\n",
    "    u = ud - uc\n",
    "    \n",
    "    d, x, y = ExtEuclid(v, r)\n",
    "    \n",
    "    while d != 1:\n",
    "        v /= d\n",
    "        u /= d\n",
    "        r /= d\n",
    "        d, x, y = ExtEuclid(v, r)\n",
    "    \n",
    "    return x*u % r"
   ]
  },
  {
   "cell_type": "code",
   "execution_count": 6,
   "metadata": {},
   "outputs": [
    {
     "data": {
      "text/plain": [
       "20.0"
      ]
     },
     "execution_count": 6,
     "metadata": {},
     "output_type": "execute_result"
    }
   ],
   "source": [
    "PollardLog(107, 10, 53, 64, 2, 2)"
   ]
  }
 ],
 "metadata": {
  "kernelspec": {
   "display_name": "Python 3",
   "language": "python",
   "name": "python3"
  },
  "language_info": {
   "codemirror_mode": {
    "name": "ipython",
    "version": 3
   },
   "file_extension": ".py",
   "mimetype": "text/x-python",
   "name": "python",
   "nbconvert_exporter": "python",
   "pygments_lexer": "ipython3",
   "version": "3.7.6"
  }
 },
 "nbformat": 4,
 "nbformat_minor": 4
}
