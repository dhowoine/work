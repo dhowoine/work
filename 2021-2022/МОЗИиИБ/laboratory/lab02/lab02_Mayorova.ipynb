{
 "cells": [
  {
   "cell_type": "code",
   "execution_count": 1,
   "metadata": {},
   "outputs": [],
   "source": [
    "import numpy as np"
   ]
  },
  {
   "cell_type": "markdown",
   "metadata": {},
   "source": [
    "##### Маршрутное шифрование"
   ]
  },
  {
   "cell_type": "code",
   "execution_count": 4,
   "metadata": {},
   "outputs": [],
   "source": [
    "# C - исходный текст\n",
    "# p - пароль\n",
    "\n",
    "def route(C, p):\n",
    "    C = C.replace(' ', '')\n",
    "    n = len(p)\n",
    "    m = int(np.ceil(len(C) / n))\n",
    "    \n",
    "    for i in range(m*n - len(C)):\n",
    "        C += chr(np.random.randint(ord('а'), ord('я') + 1))\n",
    "        \n",
    "    tbl = np.array(list(C)).reshape(m, n)\n",
    "    \n",
    "    r = p\n",
    "    cypher = ''\n",
    "    for i in range(n):\n",
    "        idx = p.index(min(r))\n",
    "        r = r.replace(min(r), '')\n",
    "        cypher += ''.join(tbl[:, idx])\n",
    "        \n",
    "    return cypher"
   ]
  },
  {
   "cell_type": "code",
   "execution_count": 5,
   "metadata": {},
   "outputs": [
    {
     "data": {
      "text/plain": [
       "'еенпнзоатаьовокннеьвлдирияцтиц'"
      ]
     },
     "execution_count": 5,
     "metadata": {},
     "output_type": "execute_result"
    }
   ],
   "source": [
    "route('нельзя недооценивать противника', 'пароль')"
   ]
  },
  {
   "cell_type": "markdown",
   "metadata": {},
   "source": [
    "##### Шифрование с помощью решёток"
   ]
  },
  {
   "cell_type": "code",
   "execution_count": 20,
   "metadata": {},
   "outputs": [],
   "source": [
    "# C - исходный текст\n",
    "# p - пароль\n",
    "\n",
    "def grid(C, p):\n",
    "    C = C.replace(' ', '')\n",
    "    k = int(np.ceil(len(p) / 2))\n",
    "    \n",
    "    sq1 = np.arange(k**2).reshape(k, k) + 1\n",
    "    sq2 = np.rot90(sq1, axes=(1, 0))\n",
    "    sq3 = np.rot90(sq1, k=2, axes=(1, 0))\n",
    "    sq4 = np.rot90(sq1, k=3, axes=(1, 0))\n",
    "    \n",
    "    tbl = np.vstack((np.hstack((sq1, sq2)), np.hstack((sq4, sq3))))\n",
    "    \n",
    "    for s in range(k**2):\n",
    "        shot = np.random.randint(0, 4)\n",
    "        idx, jdx = np.argwhere(tbl == s+1)[shot]\n",
    "        tbl[idx, jdx] = 0\n",
    "    \n",
    "    cyph_tbl = np.empty([2*k, 2*k], dtype=str)\n",
    "    for i in range(4):\n",
    "        for j in range(k**2):\n",
    "            idx, jdx = np.argwhere(tbl == 0)[j]\n",
    "            cyph_tbl[idx, jdx] = C[j]\n",
    "        \n",
    "        C = C[k**2:]\n",
    "        tbl = np.rot90(tbl, axes=(1, 0))\n",
    "        \n",
    "    r = p\n",
    "    cypher = ''\n",
    "    for i in range(len(p)):\n",
    "        idx = p.index(min(r))\n",
    "        r = r.replace(min(r), '')\n",
    "        cypher += ''.join(cyph_tbl[:, idx])\n",
    "    \n",
    "    return cypher"
   ]
  },
  {
   "cell_type": "code",
   "execution_count": 26,
   "metadata": {},
   "outputs": [
    {
     "data": {
      "text/plain": [
       "'доаодплиорпивосг'"
      ]
     },
     "execution_count": 26,
     "metadata": {},
     "output_type": "execute_result"
    }
   ],
   "source": [
    "grid('договор подписали', 'шифр')"
   ]
  },
  {
   "cell_type": "markdown",
   "metadata": {},
   "source": [
    "###### Таблица Виженера"
   ]
  },
  {
   "cell_type": "code",
   "execution_count": 6,
   "metadata": {},
   "outputs": [],
   "source": [
    "# c - буква для шифрования\n",
    "# k - ключ\n",
    "\n",
    "def Caesar(c, k):\n",
    "    n = [(i + k) % 33 for i in range(33)][ord(c) - ord('а')]\n",
    "    return chr(ord('а') + n)"
   ]
  },
  {
   "cell_type": "code",
   "execution_count": 7,
   "metadata": {},
   "outputs": [],
   "source": [
    "# C - исходный текст\n",
    "# p - пароль\n",
    "\n",
    "def Vigenere(C, p):\n",
    "    C = C.replace(' ', '')\n",
    "    P = ''\n",
    "    for i in range(int(np.floor(len(C)/len(p)))):\n",
    "        P += ''.join(p)\n",
    "    P += ''.join(p[:len(C)%len(p)])\n",
    "    \n",
    "    cypher = ''\n",
    "    for i in range(len(C)):\n",
    "        k = ord(P[i]) - ord('а')\n",
    "        cypher += ''.join(Caesar(C[i], k))\n",
    "        \n",
    "    return cypher"
   ]
  },
  {
   "cell_type": "code",
   "execution_count": 8,
   "metadata": {},
   "outputs": [
    {
     "data": {
      "text/plain": [
       "'цръфюохшкффявкььчпчакнтшца'"
      ]
     },
     "execution_count": 8,
     "metadata": {},
     "output_type": "execute_result"
    }
   ],
   "source": [
    "Vigenere('криптография серьезная наука', 'математика')"
   ]
  }
 ],
 "metadata": {
  "kernelspec": {
   "display_name": "Python 3",
   "language": "python",
   "name": "python3"
  },
  "language_info": {
   "codemirror_mode": {
    "name": "ipython",
    "version": 3
   },
   "file_extension": ".py",
   "mimetype": "text/x-python",
   "name": "python",
   "nbconvert_exporter": "python",
   "pygments_lexer": "ipython3",
   "version": "3.7.6"
  }
 },
 "nbformat": 4,
 "nbformat_minor": 4
}
