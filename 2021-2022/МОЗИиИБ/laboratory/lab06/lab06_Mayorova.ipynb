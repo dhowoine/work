{
 "cells": [
  {
   "cell_type": "markdown",
   "metadata": {},
   "source": [
    "##### p-метод Полларда"
   ]
  },
  {
   "cell_type": "code",
   "execution_count": 1,
   "metadata": {},
   "outputs": [],
   "source": [
    "def f(x, n):\n",
    "    return (x**2 + 5) % n"
   ]
  },
  {
   "cell_type": "code",
   "execution_count": 2,
   "metadata": {},
   "outputs": [],
   "source": [
    "def Euclid(a, b):\n",
    "    rp = a\n",
    "    rc = b\n",
    "    rn = 1\n",
    "    while rn != 0:\n",
    "        rn = rp % rc\n",
    "        d = rc\n",
    "        rp = rc\n",
    "        rc = rn\n",
    "    \n",
    "    return d"
   ]
  },
  {
   "cell_type": "code",
   "execution_count": 3,
   "metadata": {},
   "outputs": [],
   "source": [
    "def Pollard(c, n):\n",
    "    a = c\n",
    "    b = c\n",
    "    while True:\n",
    "        a = f(a, n) % n\n",
    "        b = f(f(b, n), n) % n\n",
    "        d = Euclid(a-b, n)\n",
    "        if 1 < d < n:\n",
    "            return d\n",
    "        \n",
    "        if d == n:\n",
    "            return 'Делитель не найден'"
   ]
  },
  {
   "cell_type": "code",
   "execution_count": 4,
   "metadata": {},
   "outputs": [
    {
     "data": {
      "text/plain": [
       "1181"
      ]
     },
     "execution_count": 4,
     "metadata": {},
     "output_type": "execute_result"
    }
   ],
   "source": [
    "Pollard(1, 1359331)"
   ]
  }
 ],
 "metadata": {
  "kernelspec": {
   "display_name": "Python 3",
   "language": "python",
   "name": "python3"
  },
  "language_info": {
   "codemirror_mode": {
    "name": "ipython",
    "version": 3
   },
   "file_extension": ".py",
   "mimetype": "text/x-python",
   "name": "python",
   "nbconvert_exporter": "python",
   "pygments_lexer": "ipython3",
   "version": "3.7.6"
  }
 },
 "nbformat": 4,
 "nbformat_minor": 4
}
